{
    "cells": [
        {
            "cell_type": "code",
            "execution_count": 1,
            "metadata": {
                "tags": []
            },
            "outputs": [
                {
                    "ename": "ModuleNotFoundError",
                    "evalue": "No module named 'matplotlib'",
                    "output_type": "error",
                    "traceback": [
                        "\u001b[0;31m---------------------------------------------------------------------------\u001b[0m",
                        "\u001b[0;31mModuleNotFoundError\u001b[0m                       Traceback (most recent call last)",
                        "Cell \u001b[0;32mIn[1], line 4\u001b[0m\n\u001b[1;32m      2\u001b[0m \u001b[39mimport\u001b[39;00m \u001b[39mpickle\u001b[39;00m\n\u001b[1;32m      3\u001b[0m \u001b[39mimport\u001b[39;00m \u001b[39mnumpy\u001b[39;00m \u001b[39mas\u001b[39;00m \u001b[39mnp\u001b[39;00m\n\u001b[0;32m----> 4\u001b[0m \u001b[39mimport\u001b[39;00m \u001b[39mmatplotlib\u001b[39;00m\u001b[39m.\u001b[39;00m\u001b[39mpyplot\u001b[39;00m \u001b[39mas\u001b[39;00m \u001b[39mplt\u001b[39;00m\n\u001b[1;32m      5\u001b[0m \u001b[39mimport\u001b[39;00m \u001b[39mmatplotlib\u001b[39;00m\n\u001b[1;32m      7\u001b[0m matplotlib\u001b[39m.\u001b[39mrcParams[\u001b[39m\"\u001b[39m\u001b[39mpdf.fonttype\u001b[39m\u001b[39m\"\u001b[39m] \u001b[39m=\u001b[39m \u001b[39m42\u001b[39m\n",
                        "\u001b[0;31mModuleNotFoundError\u001b[0m: No module named 'matplotlib'"
                    ]
                }
            ],
            "source": [
                "import os\n",
                "import pickle\n",
                "import numpy as np\n",
                "import matplotlib.pyplot as plt\n",
                "import matplotlib\n",
                "\n",
                "matplotlib.rcParams[\"pdf.fonttype\"] = 42\n",
                "matplotlib.rcParams[\"ps.fonttype\"] = 42\n",
                "\n",
                "font = {\"family\": \"sans-serif\", \"weight\": \"normal\", \"size\": 9.2}\n",
                "matplotlib.rc(\"font\", **font)\n",
                "\n",
                "plt.rc(\"figure\", figsize=[10, 6])\n",
                "plt.rc(\"figure\", titlesize=20)\n",
                "plt.rc(\"axes\", labelsize=15)\n",
                "plt.rc(\"axes\", titlesize=15)\n",
                "\n",
                "base_path = \"../../../data/outputs/agent/\"\n",
                "\n",
                "MAX_INT = 2**31 - 1\n",
                "\n",
                "fig, axs = plt.subplots(2,4, dpi=500)\n",
                "\n",
                "evaluations = np.empty((8, 8, 1000, 2))\n",
                "evaluations[:] = np.nan\n",
                "\n",
                "score_thresholds = {\"acrobot\": -100, \"cart_pole\": 475, \"mountain_car\": -110, \"mountain_car_continuous\": 90, \"lunar_lander\": 200, \"lunar_lander_continuous\": 200}\n",
                "steps_thresholds = {\"acrobot\": None, \"cart_pole\": None, \"mountain_car\": None, \"mountain_car_continuous\": None, \"lunar_lander\": None, \"lunar_lander_continuous\": None}\n",
                "\n",
                "\n",
                "for i, env in enumerate([\"acrobot\", \"cart_pole\", \"mountain_car\", \"mountain_car_continuous\", \"lunar_lander\", \"lunar_lander_continuous\", \"mean\", None]):\n",
                "\n",
                "    for j, transfer in enumerate([\"none\", \"env\", \"fit\", \"mem\", \"env+fit\", \"env+mem\", \"fit+mem\", \"env+fit+mem\"]):\n",
                "\n",
                "        run_num_steps = \"infinite\" if transfer == \"none\" else 50\n",
                "\n",
                "        for k, gen in enumerate(np.arange(1, 10001).tolist()):\n",
                "\n",
                "            file_path = base_path + f\"env.{env}~paradigm.reinforcement/agent-mode.neuroevolution~algorithm.ga~pop_size.40~net_type.dynamic~run_num_steps.{run_num_steps}~gen_transfer.{transfer}~pop_merge.False/autoencoder-none/autoregressor-none/{gen}/evaluation.pkl\"\n",
                "\n",
                "            if os.path.isfile(file_path):\n",
                "                \n",
                "                with open(file_path, \"rb\") as f:\n",
                "                    scores, total_num_env_steps = pickle.load(f)\n",
                "                \n",
                "                mean_score = scores.mean()\n",
                "                \n",
                "                evaluations[i,j,k] = [mean_score, total_num_env_steps]\n",
                "                \n",
                "                if mean_score >= score_thresholds[env]:\n",
                "                    \n",
                "                    if transfer == \"none\":\n",
                "                        \n",
                "                        steps_thresholds[env] = total_num_env_steps\n",
                "                    \n",
                "                    break\n",
                "                    \n",
                "                if steps_thresholds[env] != None and total_num_env_steps >= steps_thresholds[env]:\n",
                "                    \n",
                "                    break\n",
                "                    \n",
                "        axs[i%2][i//2].plot(evaluations[i,j,:,1]/steps_thresholds[env], evaluations[i,j,:,0]/score_thresholds[env], label=transfer)\n",
                "\n",
                "plt.legend()"
            ]
        },
        {
            "cell_type": "code",
            "execution_count": 43,
            "metadata": {
                "tags": []
            },
            "outputs": [
                {
                    "data": {
                        "text/plain": [
                            "{'acrobot': None,\n",
                            " 'cart_pole': 124508.0,\n",
                            " 'mountain_car': None,\n",
                            " 'mountain_car_continuous': None,\n",
                            " 'lunar_lander': None,\n",
                            " 'lunar_lander_continuous': None}"
                        ]
                    },
                    "execution_count": 43,
                    "metadata": {},
                    "output_type": "execute_result"
                }
            ],
            "source": [
                "steps_thresholds"
            ]
        },
        {
            "cell_type": "code",
            "execution_count": null,
            "metadata": {},
            "outputs": [],
            "source": []
        }
    ],
    "metadata": {
        "kernelspec": {
            "display_name": "Python 3 (ipykernel)",
            "language": "python",
            "name": "python3"
        },
        "language_info": {
            "codemirror_mode": {
                "name": "ipython",
                "version": 3
            },
            "file_extension": ".py",
            "mimetype": "text/x-python",
            "name": "python",
            "nbconvert_exporter": "python",
            "pygments_lexer": "ipython3",
            "version": "3.10.6"
        },
        "vscode": {
            "interpreter": {
                "hash": "916dbcbb3f70747c44a77c7bcd40155683ae19c65e1c03b4aa3499c5328201f1"
            }
        }
    },
    "nbformat": 4,
    "nbformat_minor": 4
}
