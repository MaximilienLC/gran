{
 "cells": [
  {
   "cell_type": "code",
   "execution_count": 1,
   "metadata": {},
   "outputs": [
    {
     "ename": "ModuleNotFoundError",
     "evalue": "No module named 'gymnasium'",
     "output_type": "error",
     "traceback": [
      "\u001b[0;31m---------------------------------------------------------------------------\u001b[0m",
      "\u001b[0;31mModuleNotFoundError\u001b[0m                       Traceback (most recent call last)",
      "Cell \u001b[0;32mIn[1], line 1\u001b[0m\n\u001b[0;32m----> 1\u001b[0m \u001b[39mimport\u001b[39;00m \u001b[39mgymnasium\u001b[39;00m\n\u001b[1;32m      2\u001b[0m \u001b[39mimport\u001b[39;00m \u001b[39mnumpy\u001b[39;00m \u001b[39mas\u001b[39;00m \u001b[39mnp\u001b[39;00m\n\u001b[1;32m      4\u001b[0m \u001b[39mfrom\u001b[39;00m \u001b[39mgran\u001b[39;00m\u001b[39m.\u001b[39;00m\u001b[39mutil\u001b[39;00m\u001b[39m.\u001b[39;00m\u001b[39mgym_state_control\u001b[39;00m \u001b[39mimport\u001b[39;00m (\n\u001b[1;32m      5\u001b[0m     reset_emulator_state,\n\u001b[1;32m      6\u001b[0m     run_emulator_step,\n\u001b[1;32m      7\u001b[0m     get_task_info,\n\u001b[1;32m      8\u001b[0m     get_task_name,\n\u001b[1;32m      9\u001b[0m )\n",
      "\u001b[0;31mModuleNotFoundError\u001b[0m: No module named 'gymnasium'"
     ]
    }
   ],
   "source": [
    "import gymnasium\n",
    "import numpy as np\n",
    "\n",
    "from gran.util.gym_state_control import (\n",
    "    reset_emulator_state,\n",
    "    run_emulator_step,\n",
    "    get_task_info,\n",
    "    get_task_name,\n",
    ")\n",
    "from gran.util.misc import standardize\n",
    "\n",
    "task = \"cart_pole\"\n",
    "emulator = gymnasium.make(get_task_name(task))\n",
    "x_size, _, _, _ = get_task_info(task)\n",
    "\n",
    "states = []\n",
    "\n",
    "for i in range(10000):\n",
    "    if i == 0 or done:\n",
    "        obs, done = reset_emulator_state(emulator, 0), False\n",
    "\n",
    "    states.append(obs)\n",
    "\n",
    "    obs, rew, done = run_emulator_step(\n",
    "        emulator, emulator.action_space.sample()\n",
    "    )\n",
    "\n",
    "states = standardize(np.array(states))\n",
    "\n",
    "emulator.close()\n"
   ]
  },
  {
   "cell_type": "code",
   "execution_count": 2,
   "metadata": {},
   "outputs": [],
   "source": [
    "import torch\n",
    "import pytorch_lightning as pl\n",
    "\n",
    "import wandb\n",
    "from pytorch_lightning.loggers import WandbLogger\n",
    "\n",
    "with open(\"../../wandb_key.txt\", \"r\") as f:\n",
    "    key = f.read()\n",
    "\n",
    "wandb.login(key=key)\n",
    "\n",
    "class CartPoleDataset(torch.utils.data.Dataset):\n",
    "    def __init__(self, data: np.ndarray):\n",
    "        self.X = torch.tensor(data, dtype=torch.float)\n",
    "    def __len__(self):\n",
    "        return self.X.shape[0]\n",
    "    def __getitem__(self, index: int):\n",
    "        return self.X[index]\n",
    "\n",
    "class CartPoleDataModule(pl.LightningDataModule):\n",
    "    def __init__(self, data: str, batch_size: int):\n",
    "        super().__init__()\n",
    "        self.data = data\n",
    "        self.batch_size = batch_size\n",
    "    def setup(self, stage: str):\n",
    "        self.cartpole_train = CartPoleDataset(self.data)\n",
    "    def train_dataloader(self):\n",
    "        return torch.utils.data.DataLoader(\n",
    "            self.cartpole_train, batch_size=self.batch_size\n",
    "        )\n"
   ]
  },
  {
   "cell_type": "code",
   "execution_count": 6,
   "metadata": {},
   "outputs": [
    {
     "name": "stderr",
     "output_type": "stream",
     "text": [
      "INFO:lightning_lite.utilities.seed:Global seed set to 1\n",
      "INFO:pytorch_lightning.loggers.comet:CometLogger will be initialized in online mode\n",
      "INFO:pytorch_lightning.utilities.rank_zero:GPU available: True (cuda), used: True\n",
      "INFO:pytorch_lightning.utilities.rank_zero:TPU available: False, using: 0 TPU cores\n",
      "INFO:pytorch_lightning.utilities.rank_zero:IPU available: False, using: 0 IPUs\n",
      "INFO:pytorch_lightning.utilities.rank_zero:HPU available: False, using: 0 HPUs\n",
      "INFO:pytorch_lightning.accelerators.cuda:LOCAL_RANK: 0 - CUDA_VISIBLE_DEVICES: [0]\n",
      "INFO:pytorch_lightning.callbacks.model_summary:\n",
      "  | Name    | Type       | Params\n",
      "---------------------------------------\n",
      "0 | encoder | Sequential | 483 K \n",
      "1 | decoder | Sequential | 322 K \n",
      "---------------------------------------\n",
      "805 K     Trainable params\n",
      "0         Non-trainable params\n",
      "805 K     Total params\n",
      "3.222     Total estimated model params size (MB)\n"
     ]
    },
    {
     "name": "stdout",
     "output_type": "stream",
     "text": [
      "Epoch 49: 100%|████████| 1/1 [00:00<00:00, 13.50it/s, loss=2.79e+04, v_num=3161]"
     ]
    },
    {
     "name": "stderr",
     "output_type": "stream",
     "text": [
      "COMET WARNING: Comet has disabled auto-logging functionality as it has been imported after the following ML modules: torch. Metrics and hyperparameters can still be logged using Experiment.log_metrics() and Experiment.log_parameters()\n",
      "COMET WARNING: As you are running in a Jupyter environment, you will need to call `experiment.end()` when finished to ensure all metrics and code are logged before exiting.\n",
      "COMET INFO: Experiment is live on comet.com https://www.comet.com/maximilienlc/general/8839bcfef77d4dc18c2b339175773161\n",
      "\n"
     ]
    },
    {
     "name": "stdout",
     "output_type": "stream",
     "text": [
      "Epoch 999: 100%|███████| 1/1 [00:00<00:00, 12.19it/s, loss=2.49e+04, v_num=3161]"
     ]
    },
    {
     "name": "stderr",
     "output_type": "stream",
     "text": [
      "INFO:pytorch_lightning.utilities.rank_zero:`Trainer.fit` stopped: `max_epochs=1000` reached.\n"
     ]
    },
    {
     "name": "stdout",
     "output_type": "stream",
     "text": [
      "\r\n",
      "Epoch 999: 100%|███████| 1/1 [00:00<00:00,  9.79it/s, loss=2.49e+04, v_num=3161]"
     ]
    },
    {
     "name": "stderr",
     "output_type": "stream",
     "text": [
      "COMET INFO: ---------------------------\n",
      "COMET INFO: Comet.ml Experiment Summary\n",
      "COMET INFO: ---------------------------\n",
      "COMET INFO:   Data:\n",
      "COMET INFO:     display_summary_level : 1\n",
      "COMET INFO:     url                   : https://www.comet.com/maximilienlc/general/8839bcfef77d4dc18c2b339175773161\n",
      "COMET INFO:   Metrics [count] (min, max):\n",
      "COMET INFO:     train/kl_loss [20]    : (19375.384765625, 32517.49609375)\n",
      "COMET INFO:     train/loss [20]       : (13745.50390625, 42732.2109375)\n",
      "COMET INFO:     train/recon_loss [20] : (8128.00537109375, 36937.4765625)\n"
     ]
    },
    {
     "name": "stdout",
     "output_type": "stream",
     "text": [
      "\n"
     ]
    },
    {
     "name": "stderr",
     "output_type": "stream",
     "text": [
      "COMET INFO:   Others:\n",
      "COMET INFO:     Created from : pytorch-lightning\n",
      "COMET INFO:   Uploads:\n",
      "COMET INFO:     environment details      : 1\n",
      "COMET INFO:     filename                 : 1\n",
      "COMET INFO:     git metadata             : 1\n",
      "COMET INFO:     git-patch (uncompressed) : 1 (14.85 KB)\n",
      "COMET INFO:     installed packages       : 1\n",
      "COMET INFO:     notebook                 : 1\n",
      "COMET INFO:     os packages              : 1\n",
      "COMET INFO:     source_code              : 1\n",
      "COMET INFO: ---------------------------\n",
      "COMET WARNING: Comet has disabled auto-logging functionality as it has been imported after the following ML modules: torch. Metrics and hyperparameters can still be logged using Experiment.log_metrics() and Experiment.log_parameters()\n",
      "COMET INFO: Uploading 1 metrics, params and output messages\n",
      "COMET INFO: Waiting for completion of the file uploads (may take several seconds)\n",
      "COMET INFO: The Python SDK has 10800 seconds to finish before aborting...\n",
      "COMET INFO: All files uploaded, waiting for confirmation they have been all received\n"
     ]
    }
   ],
   "source": [
    "from gran.grad.model.ae.var.mlp import MLPVAE\n",
    "\n",
    "wandb.finish()\n",
    "pl.seed_everything(0)\n",
    "wandb_logger = WandbLogger()\n",
    "\n",
    "model = MLPVAE(x_size=x_size, hidden_size=x_size*100, latent_size=x_size*100)\n",
    "dm = CartPoleDataModule(np.array(states), 10000)\n",
    "\n",
    "trainer = pl.Trainer(max_epochs=10000, accelerator='gpu', devices=-1, logger=wandb_logger)\n",
    "trainer.fit(model, dm)\n",
    "wandb.finish()"
   ]
  },
  {
   "cell_type": "code",
   "execution_count": 5,
   "metadata": {},
   "outputs": [
    {
     "name": "stderr",
     "output_type": "stream",
     "text": [
      "COMET WARNING: Comet has disabled auto-logging functionality as it has been imported after the following ML modules: torch. Metrics and hyperparameters can still be logged using Experiment.log_metrics() and Experiment.log_parameters()\n",
      "COMET WARNING: As you are running in a Jupyter environment, you will need to call `experiment.end()` when finished to ensure all metrics and code are logged before exiting.\n",
      "COMET INFO: Experiment is live on comet.com https://www.comet.com/maximilienlc/general/861d5c80059e4b3992851efbf43a62f0\n",
      "\n",
      "COMET INFO: -----------------------------------\n",
      "COMET INFO: Comet.ml ExistingExperiment Summary\n",
      "COMET INFO: -----------------------------------\n",
      "COMET INFO:   Data:\n",
      "COMET INFO:     display_summary_level : 1\n",
      "COMET INFO:     url                   : https://www.comet.com/maximilienlc/general/861d5c80059e4b3992851efbf43a62f0\n",
      "COMET INFO:   Others:\n",
      "COMET INFO:     Created from : pytorch-lightning\n",
      "COMET INFO: -----------------------------------\n",
      "COMET WARNING: Comet has disabled auto-logging functionality as it has been imported after the following ML modules: torch. Metrics and hyperparameters can still be logged using Experiment.log_metrics() and Experiment.log_parameters()\n",
      "COMET INFO: Uploading 1 metrics, params and output messages\n"
     ]
    }
   ],
   "source": [
    "comet_logger.experiment.end()"
   ]
  },
  {
   "cell_type": "code",
   "execution_count": 12,
   "metadata": {},
   "outputs": [
    {
     "data": {
      "text/plain": [
       "tensor([[ 0.2300,  0.4470, -0.1629, -0.4479],\n",
       "        [ 0.3193,  0.7621, -0.2560, -0.7443],\n",
       "        [ 0.2627,  0.4685, -0.2122, -0.4776],\n",
       "        ...,\n",
       "        [ 0.1802,  0.2392, -0.1190, -0.2576],\n",
       "        [ 0.2385,  0.4825, -0.1821, -0.4850],\n",
       "        [ 0.3299,  0.8030, -0.2808, -0.7885]], grad_fn=<AddmmBackward0>)"
      ]
     },
     "execution_count": 12,
     "metadata": {},
     "output_type": "execute_result"
    }
   ],
   "source": [
    "model(torch.tensor(states, dtype=torch.float))[0]"
   ]
  },
  {
   "cell_type": "code",
   "execution_count": 13,
   "metadata": {},
   "outputs": [
    {
     "data": {
      "text/plain": [
       "array([[ 0.51926327,  0.24747598, -0.2024285 , -0.09827513],\n",
       "       [ 0.5141689 ,  0.6195593 , -0.21317889, -0.49938208],\n",
       "       [ 0.5523916 ,  0.24999224, -0.29214984, -0.13653122],\n",
       "       ...,\n",
       "       [ 0.4953347 , -0.11645585, -0.29040217,  0.17917903],\n",
       "       [ 0.44787222,  0.25581813, -0.25396302, -0.22501059],\n",
       "       [ 0.44374904,  0.62801325, -0.28626865, -0.6279266 ]],\n",
       "      dtype=float32)"
      ]
     },
     "execution_count": 13,
     "metadata": {},
     "output_type": "execute_result"
    }
   ],
   "source": [
    "states"
   ]
  },
  {
   "cell_type": "code",
   "execution_count": null,
   "metadata": {},
   "outputs": [],
   "source": []
  }
 ],
 "metadata": {
  "kernelspec": {
   "display_name": "Python 3 (ipykernel)",
   "language": "python",
   "name": "python3"
  },
  "language_info": {
   "codemirror_mode": {
    "name": "ipython",
    "version": 3
   },
   "file_extension": ".py",
   "mimetype": "text/x-python",
   "name": "python",
   "nbconvert_exporter": "python",
   "pygments_lexer": "ipython3",
   "version": "3.10.6"
  },
  "vscode": {
   "interpreter": {
    "hash": "916dbcbb3f70747c44a77c7bcd40155683ae19c65e1c03b4aa3499c5328201f1"
   }
  }
 },
 "nbformat": 4,
 "nbformat_minor": 2
}
