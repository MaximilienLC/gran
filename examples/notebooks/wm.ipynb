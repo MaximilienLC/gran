{
    "cells": [
        {
            "cell_type": "code",
            "execution_count": 6,
            "metadata": {
                "tags": []
            },
            "outputs": [
                {
                    "data": {
                        "text/plain": [
                            "tensor([[ 0.0287, -0.0252, -0.0534, -0.0450],\n",
                            "        [ 0.0195,  0.1994, -0.0551, -0.3548],\n",
                            "        [ 0.0311, -0.0204, -0.0608, -0.0722],\n",
                            "        ...,\n",
                            "        [-0.0134,  0.4108, -0.1734, -1.2046],\n",
                            "        [ 0.0014,  0.2301, -0.1913, -0.9925],\n",
                            "        [ 0.0226,  0.0544, -0.2043, -0.7890]], grad_fn=<AddmmBackward0>)"
                        ]
                    },
                    "execution_count": 6,
                    "metadata": {},
                    "output_type": "execute_result"
                }
            ],
            "source": [
                "model(torch.tensor(obs_array, dtype=torch.float))"
            ]
        },
        {
            "cell_type": "code",
            "execution_count": 7,
            "metadata": {
                "tags": []
            },
            "outputs": [
                {
                    "data": {
                        "text/plain": [
                            "array([[ 0.01369617, -0.02302133, -0.04590265, -0.04834723],\n",
                            "       [ 0.01323574,  0.17272775, -0.04686959, -0.3551522 ],\n",
                            "       [ 0.0166903 , -0.02169755, -0.05397264, -0.07760915],\n",
                            "       ...,\n",
                            "       [-0.00378081,  0.3945922 , -0.17737961, -1.2545196 ],\n",
                            "       [ 0.00411104,  0.20212865, -0.20247   , -1.0222306 ],\n",
                            "       [ 0.00815361,  0.0101946 , -0.22291462, -0.7993309 ]],\n",
                            "      dtype=float32)"
                        ]
                    },
                    "execution_count": 7,
                    "metadata": {},
                    "output_type": "execute_result"
                }
            ],
            "source": [
                "obs_array"
            ]
        },
        {
            "cell_type": "code",
            "execution_count": null,
            "metadata": {},
            "outputs": [],
            "source": [
                "latents = model.encoder(torch.tensor(obs_list, dtype=torch.float))"
            ]
        },
        {
            "cell_type": "markdown",
            "metadata": {},
            "source": [
                "# AR"
            ]
        },
        {
            "cell_type": "code",
            "execution_count": 4,
            "metadata": {
                "tags": []
            },
            "outputs": [],
            "source": []
        },
        {
            "cell_type": "code",
            "execution_count": 5,
            "metadata": {
                "tags": []
            },
            "outputs": [],
            "source": [
                "from gran.bprop.model.ar.mdnrnn import MDNRNN\n",
                "\n",
                "model = MDNRNN().load_from_checkpoint(\"lightning_logs/vrwd4hg8/checkpoints/epoch=49999-step=50000.ckpt\")\n",
                "data = [obs_array, action_array, rew_array, done_array]\n",
                "dm = ARDataModule(data=data, batch_size=300)\n",
                "dm.setup(\"train\")"
            ]
        },
        {
            "cell_type": "code",
            "execution_count": null,
            "metadata": {},
            "outputs": [],
            "source": []
        },
        {
            "cell_type": "code",
            "execution_count": null,
            "metadata": {
                "tags": []
            },
            "outputs": [],
            "source": []
        },
        {
            "cell_type": "code",
            "execution_count": null,
            "metadata": {
                "tags": []
            },
            "outputs": [],
            "source": [
                "dm.dataset[1][0]"
            ]
        },
        {
            "cell_type": "code",
            "execution_count": 31,
            "metadata": {
                "tags": []
            },
            "outputs": [
                {
                    "data": {
                        "text/plain": [
                            "torch.Size([24, 5, 4])"
                        ]
                    },
                    "execution_count": 31,
                    "metadata": {},
                    "output_type": "execute_result"
                }
            ],
            "source": [
                "model(dm.dataset[0:2][0], torch.tensor([16,8]))[1].shape"
            ]
        },
        {
            "cell_type": "code",
            "execution_count": 8,
            "metadata": {
                "tags": []
            },
            "outputs": [],
            "source": [
                "a = torch.tensor([[ 0, 18],\n",
                "        [ 1, 12],\n",
                "        [ 2,  8],\n",
                "        [ 3, 19],\n",
                "        [ 4, 24],\n",
                "        [ 5,  9],\n",
                "        [ 6, 45],\n",
                "        [ 7,  7],\n",
                "        [ 8, 20],\n",
                "        [ 9,  8],\n",
                "        [10, 24],\n",
                "        [11,  9],\n",
                "        [12,  8],\n",
                "        [13, 25],\n",
                "        [14,  9],\n",
                "        [15, 20],\n",
                "        [16, 33],\n",
                "        [17, 19],\n",
                "        [18, 11],\n",
                "        [19,  9]], device='cuda:0')"
            ]
        },
        {
            "cell_type": "code",
            "execution_count": 11,
            "metadata": {
                "tags": []
            },
            "outputs": [],
            "source": [
                "b = torch.tensor([[ 0, 18]], device='cuda:0')"
            ]
        },
        {
            "cell_type": "code",
            "execution_count": 15,
            "metadata": {
                "tags": []
            },
            "outputs": [
                {
                    "data": {
                        "text/plain": [
                            "tensor([18, 12,  8, 19, 24,  9, 45,  7, 20,  8, 24,  9,  8, 25,  9, 20, 33, 19,\n",
                            "        11,  9], device='cuda:0')"
                        ]
                    },
                    "execution_count": 15,
                    "metadata": {},
                    "output_type": "execute_result"
                }
            ],
            "source": [
                "a[:, 1]"
            ]
        },
        {
            "cell_type": "code",
            "execution_count": null,
            "metadata": {},
            "outputs": [],
            "source": []
        }
    ],
    "metadata": {
        "kernelspec": {
            "display_name": "Python 3 (ipykernel)",
            "language": "python",
            "name": "python3"
        },
        "language_info": {
            "codemirror_mode": {
                "name": "ipython",
                "version": 3
            },
            "file_extension": ".py",
            "mimetype": "text/x-python",
            "name": "python",
            "nbconvert_exporter": "python",
            "pygments_lexer": "ipython3",
            "version": "3.10.6"
        },
        "vscode": {
            "interpreter": {
                "hash": "916dbcbb3f70747c44a77c7bcd40155683ae19c65e1c03b4aa3499c5328201f1"
            }
        }
    },
    "nbformat": 4,
    "nbformat_minor": 4
}
